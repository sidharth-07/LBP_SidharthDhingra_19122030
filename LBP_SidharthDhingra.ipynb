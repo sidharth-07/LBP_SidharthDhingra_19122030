{
 "cells": [
  {
   "cell_type": "markdown",
   "metadata": {},
   "source": [
    "# Two Node Entanglement Distribution\n",
    "\n",
    "In this file, we use SeQUeNCe to simulate entanglement distribution between two adjacent network nodes (using only the Barrett-Kok entanglement generation protocol). The network topology, including hardware components, is shown below:\n",
    "\n",
    "<img src=\"./notebook_images/Untitled Diagram (2).jpg\" width=\"500\"/>"
   ]
  },
  {
   "cell_type": "markdown",
   "metadata": {},
   "source": [
    "\n",
    "\n",
    "The following modules are used from the SeQUeNCe simulator to run our simulations.\n",
    "\n",
    "- `Timeline` is the main simulation tool, providing an interface for the discrete-event simulation kernel.\n",
    "- `QuantumRouter` provides a ready-to-use quantum router implementing SeQUeNCe's modular design. `BSMNode` provides a simpler, ready-to-use quantum node placed between routers as required by the entanglement generation protocol.\n",
    "- `QuantumChannel` and `ClassicalChannel` are communication links between quantum nodes, providing models of optical fibers.\n",
    "- The `Rule` class is used to direct the behavior of protocols within the simulation by providing explicit steps to be taken. Rules include a condition that must be met by a router and the action that should be performed when the condition is met.\n",
    "- The `EntanglementGenerationA` is our implementation of the Barrett-Kok protocol and is used in defining rules for this simulation."
   ]
  },
  {
   "cell_type": "code",
   "execution_count": 1,
   "metadata": {},
   "outputs": [
    {
     "ename": "ModuleNotFoundError",
     "evalue": "No module named 'sequence'",
     "output_type": "error",
     "traceback": [
      "\u001b[1;31m---------------------------------------------------------------------------\u001b[0m",
      "\u001b[1;31mModuleNotFoundError\u001b[0m                       Traceback (most recent call last)",
      "\u001b[1;32mC:\\Users\\HP-PAV~1\\AppData\\Local\\Temp/ipykernel_10808/1067087561.py\u001b[0m in \u001b[0;36m<module>\u001b[1;34m\u001b[0m\n\u001b[0;32m      5\u001b[0m \"\"\"\n\u001b[0;32m      6\u001b[0m \u001b[1;33m\u001b[0m\u001b[0m\n\u001b[1;32m----> 7\u001b[1;33m \u001b[1;32mfrom\u001b[0m \u001b[0msequence\u001b[0m\u001b[1;33m.\u001b[0m\u001b[0mtopology\u001b[0m\u001b[1;33m.\u001b[0m\u001b[0mnode\u001b[0m \u001b[1;32mimport\u001b[0m \u001b[0mNode\u001b[0m\u001b[1;33m\u001b[0m\u001b[1;33m\u001b[0m\u001b[0m\n\u001b[0m\u001b[0;32m      8\u001b[0m \u001b[1;32mfrom\u001b[0m \u001b[0msequence\u001b[0m\u001b[1;33m.\u001b[0m\u001b[0mcomponents\u001b[0m\u001b[1;33m.\u001b[0m\u001b[0mmemory\u001b[0m \u001b[1;32mimport\u001b[0m \u001b[0mMemoryArray\u001b[0m\u001b[1;33m\u001b[0m\u001b[1;33m\u001b[0m\u001b[0m\n\u001b[0;32m      9\u001b[0m \u001b[1;32mfrom\u001b[0m \u001b[0msequence\u001b[0m\u001b[1;33m.\u001b[0m\u001b[0mresource_management\u001b[0m\u001b[1;33m.\u001b[0m\u001b[0mresource_manager\u001b[0m \u001b[1;32mimport\u001b[0m \u001b[0mResourceManager\u001b[0m\u001b[1;33m\u001b[0m\u001b[1;33m\u001b[0m\u001b[0m\n",
      "\u001b[1;31mModuleNotFoundError\u001b[0m: No module named 'sequence'"
     ]
    }
   ],
   "source": [
    "\"\"\"\n",
    "Created on Wed May  4 03:42:33 2022\n",
    "\n",
    "@author: Hp-Pav Gaming\n",
    "\"\"\"\n",
    "\n",
    "from sequence.topology.node import Node\n",
    "from sequence.components.memory import MemoryArray\n",
    "from sequence.resource_management.resource_manager import ResourceManager\n",
    "from sequence.message import Message\n",
    "from sequence.resource_management.memory_manager import MemoryInfo, MemoryManager\n",
    "from typing import List"
   ]
  },
  {
   "cell_type": "code",
   "execution_count": null,
   "metadata": {},
   "outputs": [],
   "source": [
    "class RouterNode(Node):\n",
    "    def __init__(self, name, tl, memo_size=50):\n",
    "        super().__init__(name, tl)\n",
    "        self.memory_array = MemoryArray(name + \".MemoryArray\", tl, num_memories=memo_size,fidelity=0.85,efficiency=1)\n",
    "        self.memory_array.owner = self\n",
    "        self.resource_manager = ResourceManager(self)\n",
    "\n",
    "    def receive_message(self, src: str, msg: \"Message\") -> None:\n",
    "        if msg.receiver == \"resource_manager\":\n",
    "            self.resource_manager.received_message(src, msg)\n",
    "        else:\n",
    "            if msg.receiver is None:\n",
    "                matching = [p for p in self.protocols if type(p) == msg.protocol_type]\n",
    "                for p in matching:\n",
    "                    p.received_message(src, msg)\n",
    "            else:\n",
    "                for protocol in self.protocols:\n",
    "                    if protocol.name == msg.receiver:\n",
    "                        protocol.received_message(src, msg)\n",
    "                        break\n",
    "\n",
    "    def get_idle_memory(self, info: \"MemoryInfo\") -> None:\n",
    "        pass"
   ]
  },
  {
   "cell_type": "code",
   "execution_count": null,
   "metadata": {},
   "outputs": [],
   "source": [
    "def eg_rule_condition(memory_info: \"MemoryInfo\", manager: \"MemoryManager\", args):\n",
    "    index_upper = args[\"index_upper\"]\n",
    "    index_lower = args[\"index_lower\"]\n",
    "    if memory_info.state == \"RAW\" \\\n",
    "            and index_lower <= memory_info.index <= index_upper:\n",
    "        return [memory_info]\n",
    "    else:\n",
    "        return []"
   ]
  },
  {
   "cell_type": "code",
   "execution_count": null,
   "metadata": {},
   "outputs": [],
   "source": [
    "from sequence.entanglement_management.generation import EntanglementGenerationA\n",
    "\n",
    "def eg_req_func(protocols, args):\n",
    "    remote_node = args[\"remote_node\"]\n",
    "    index_upper = args[\"index_upper\"]\n",
    "    index_lower = args[\"index_lower\"]\n",
    "    for protocol in protocols:\n",
    "        if not isinstance(protocol, EntanglementGenerationA):\n",
    "            continue\n",
    "        index_func = protocol.memory.owner.memory_array.memories.index\n",
    "        \n",
    "        if protocol.remote_node_name == remote_node \\\n",
    "                and index_lower <= index_func(protocol.memory) <= index_upper:\n",
    "            return protocol"
   ]
  },
  {
   "cell_type": "code",
   "execution_count": null,
   "metadata": {},
   "outputs": [],
   "source": [
    "def eg_rule_action1(memories_info: List[\"MemoryInfo\"], args):\n",
    "    mid_name = args[\"mid_name\"]\n",
    "    other_name = args[\"other_name\"]\n",
    "\n",
    "    memories = [info.memory for info in memories_info]\n",
    "    memory = memories[0]\n",
    "    \n",
    "    protocol = EntanglementGenerationA(None, \"EGA.\" + memory.name, mid_name,\n",
    "                                       other_name,\n",
    "                                       memory)\n",
    "    req_args = {\"remote_node\": args[\"node_name\"],\n",
    "                \"index_upper\": args[\"index_upper\"],\n",
    "                \"index_lower\": args[\"index_lower\"]}\n",
    "    return [protocol, [other_name], [eg_req_func], [req_args]]"
   ]
  },
  {
   "cell_type": "code",
   "execution_count": null,
   "metadata": {},
   "outputs": [],
   "source": [
    "def eg_rule_action2(memories_info: List[\"MemoryInfo\"], args):\n",
    "    mid_name = args[\"mid_name\"]\n",
    "    other_name = args[\"other_name\"]\n",
    "    memories = [info.memory for info in memories_info]\n",
    "    memory = memories[0]\n",
    "    \n",
    "    protocol = EntanglementGenerationA(None, \"EGA.\" + memory.name,\n",
    "                                       mid_name, other_name, memory)\n",
    "    return [protocol, [None], [None], [None]]\n",
    "\n",
    "from sequence.kernel.timeline import Timeline\n",
    "from sequence.topology.node import BSMNode\n",
    "from sequence.components.optical_channel import ClassicalChannel, QuantumChannel"
   ]
  },
  {
   "cell_type": "code",
   "execution_count": 2,
   "metadata": {},
   "outputs": [
    {
     "ename": "NameError",
     "evalue": "name 'Timeline' is not defined",
     "output_type": "error",
     "traceback": [
      "\u001b[1;31m---------------------------------------------------------------------------\u001b[0m",
      "\u001b[1;31mNameError\u001b[0m                                 Traceback (most recent call last)",
      "\u001b[1;32mC:\\Users\\HP-PAV~1\\AppData\\Local\\Temp/ipykernel_10808/1275199105.py\u001b[0m in \u001b[0;36m<module>\u001b[1;34m\u001b[0m\n\u001b[0;32m      1\u001b[0m \u001b[0mruntime\u001b[0m \u001b[1;33m=\u001b[0m \u001b[1;36m30e12\u001b[0m\u001b[1;33m\u001b[0m\u001b[1;33m\u001b[0m\u001b[0m\n\u001b[1;32m----> 2\u001b[1;33m \u001b[0mtl\u001b[0m \u001b[1;33m=\u001b[0m \u001b[0mTimeline\u001b[0m\u001b[1;33m(\u001b[0m\u001b[0mruntime\u001b[0m\u001b[1;33m)\u001b[0m\u001b[1;33m\u001b[0m\u001b[1;33m\u001b[0m\u001b[0m\n\u001b[0m\u001b[0;32m      3\u001b[0m \u001b[1;33m\u001b[0m\u001b[0m\n\u001b[0;32m      4\u001b[0m \u001b[1;31m# nodes\u001b[0m\u001b[1;33m\u001b[0m\u001b[1;33m\u001b[0m\u001b[0m\n\u001b[0;32m      5\u001b[0m \u001b[0mr1\u001b[0m \u001b[1;33m=\u001b[0m \u001b[0mRouterNode\u001b[0m\u001b[1;33m(\u001b[0m\u001b[1;34m\"r1\"\u001b[0m\u001b[1;33m,\u001b[0m \u001b[0mtl\u001b[0m\u001b[1;33m,\u001b[0m \u001b[0mmemo_size\u001b[0m\u001b[1;33m=\u001b[0m\u001b[1;36m20\u001b[0m\u001b[1;33m)\u001b[0m\u001b[1;33m\u001b[0m\u001b[1;33m\u001b[0m\u001b[0m\n",
      "\u001b[1;31mNameError\u001b[0m: name 'Timeline' is not defined"
     ]
    }
   ],
   "source": [
    "runtime = 30e12\n",
    "tl = Timeline(runtime)\n",
    "\n",
    "# nodes\n",
    "r1 = RouterNode(\"r1\", tl, memo_size=20)\n",
    "r2 = RouterNode(\"r2\", tl, memo_size=40)\n",
    "\n",
    "\n",
    "m12 = BSMNode(\"m12\", tl, [\"r1\", \"r2\"])\n",
    "\n",
    "\n",
    "node_list = [r1, r2, m12]\n",
    "for i, node in enumerate(node_list):\n",
    "    node.set_seed(i)\n",
    "\n",
    "#  classical connections created\n",
    "cc_delay = 1e9\n",
    "for node1 in node_list:\n",
    "    for node2 in node_list:\n",
    "        cc = ClassicalChannel(\"cc_%s_%s\"%(node1.name, node2.name), tl, 1e3, delay=cc_delay)\n",
    "        cc.set_ends(node1, node2.name)\n",
    "\n",
    "# create quantum channels linking r1 and r2 to m1\n",
    "qc_atten = 0\n",
    "qc_dist = 10e3\n",
    "qc1 = QuantumChannel(\"qc_r1_m12\", tl, qc_atten, qc_dist)\n",
    "qc1.set_ends(r1, m12.name)\n",
    "qc2 = QuantumChannel(\"qc_r2_m12\", tl, qc_atten, qc_dist)\n",
    "qc2.set_ends(r2, m12.name)\n",
    "\n",
    "\n",
    "\n",
    "\n",
    "from sequence.resource_management.rule_manager import Rule\n",
    "\n",
    "tl.init()\n",
    "\n",
    "# load rules\n",
    "action_args = {\"mid_name\": \"m12\", \"other_name\": \"r2\", \"node_name\": \"r1\",\n",
    "               \"index_upper\": 9, \"index_lower\": 0}\n",
    "condition_args = {\"index_lower\": 0, \"index_upper\": 9}\n",
    "rule1 = Rule(10, eg_rule_action1, eg_rule_condition, action_args,\n",
    "             condition_args)\n",
    "r1.resource_manager.load(rule1)\n",
    "action_args2 = {\"mid_name\": \"m12\", \"other_name\": \"r1\"}\n",
    "rule2 = Rule(10, eg_rule_action2, eg_rule_condition, action_args2,\n",
    "             condition_args)\n",
    "r2.resource_manager.load(rule2)\n",
    "\n",
    "tl.run()\n",
    "\n",
    "print(\"Router 1 Memories\")\n",
    "print(\"Index:\\tEntangled Node:\\tFidelity:\\tEntanglement Time:\")\n",
    "for i, info in enumerate(r1.resource_manager.memory_manager):\n",
    "    print(\"{:6}\\t{:15}\\t{:9}\\t{}\".format(str(i), str(info.remote_node),\n",
    "                                         str(info.fidelity), str(info.entangle_time * 1e-12)))"
   ]
  },
  {
   "cell_type": "code",
   "execution_count": null,
   "metadata": {},
   "outputs": [],
   "source": []
  },
  {
   "cell_type": "code",
   "execution_count": null,
   "metadata": {},
   "outputs": [],
   "source": []
  },
  {
   "cell_type": "code",
   "execution_count": null,
   "metadata": {},
   "outputs": [],
   "source": []
  }
 ],
 "metadata": {
  "kernelspec": {
   "display_name": "Python 3 (ipykernel)",
   "language": "python",
   "name": "python3"
  },
  "language_info": {
   "codemirror_mode": {
    "name": "ipython",
    "version": 3
   },
   "file_extension": ".py",
   "mimetype": "text/x-python",
   "name": "python",
   "nbconvert_exporter": "python",
   "pygments_lexer": "ipython3",
   "version": "3.9.7"
  }
 },
 "nbformat": 4,
 "nbformat_minor": 2
}
